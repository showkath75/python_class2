{
 "cells": [
  {
   "cell_type": "code",
   "execution_count": 1,
   "id": "919e1dd2",
   "metadata": {},
   "outputs": [
    {
     "name": "stdout",
     "output_type": "stream",
     "text": [
      "my name is: Mohammad showkath ali\n"
     ]
    }
   ],
   "source": [
    "name = (\"Mohammad showkath ali\")\n",
    "print (\"my name is:\",name)\n"
   ]
  },
  {
   "cell_type": "code",
   "execution_count": 2,
   "id": "a68aef97",
   "metadata": {},
   "outputs": [
    {
     "name": "stdout",
     "output_type": "stream",
     "text": [
      "my age is: 22\n"
     ]
    }
   ],
   "source": [
    "age = 22\n",
    "print (\"my age is:\", age)"
   ]
  },
  {
   "cell_type": "code",
   "execution_count": 5,
   "id": "c45e23d9",
   "metadata": {},
   "outputs": [
    {
     "name": "stdout",
     "output_type": "stream",
     "text": [
      "my gender is: male\n"
     ]
    }
   ],
   "source": [
    "gender = \"male\"\n",
    "print (\"my gender is:\", gender)\n"
   ]
  },
  {
   "cell_type": "code",
   "execution_count": null,
   "id": "11108ae2",
   "metadata": {},
   "outputs": [],
   "source": []
  }
 ],
 "metadata": {
  "kernelspec": {
   "display_name": "Python 3 (ipykernel)",
   "language": "python",
   "name": "python3"
  },
  "language_info": {
   "codemirror_mode": {
    "name": "ipython",
    "version": 3
   },
   "file_extension": ".py",
   "mimetype": "text/x-python",
   "name": "python",
   "nbconvert_exporter": "python",
   "pygments_lexer": "ipython3",
   "version": "3.10.9"
  }
 },
 "nbformat": 4,
 "nbformat_minor": 5
}
